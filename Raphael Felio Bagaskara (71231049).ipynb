{
 "cells": [
  {
   "cell_type": "code",
   "execution_count": 5,
   "id": "221e5f07",
   "metadata": {},
   "outputs": [
    {
     "name": "stdout",
     "output_type": "stream",
     "text": [
      "Masukkan bilangan yang diinginkan : 21\n",
      "19 adalah bilangan prima terdekat dari 21\n"
     ]
    }
   ],
   "source": [
    "#latihan 6.1\n",
    "def prima_dkt(n):\n",
    "    prima_dkt = False\n",
    "    bil = 0\n",
    "    for i in range(1, n + 1):\n",
    "        if n % i == 0:\n",
    "            bil += 1\n",
    "        if bil > 2 :\n",
    "            prima_dkt = False\n",
    "            break\n",
    "        else:\n",
    "            prima_dkt = True\n",
    "    return prima_dkt\n",
    "\n",
    "nilai = int(input(\"Masukkan bilangan yang diinginkan : \"))\n",
    "for i in range(nilai -1,0,-1):\n",
    "    if prima_dkt(i):\n",
    "        print(\"%d adalah bilangan prima terdekat dari %d\"%(i,nilai))\n",
    "        break"
   ]
  },
  {
   "cell_type": "code",
   "execution_count": 14,
   "id": "57e62401",
   "metadata": {},
   "outputs": [
    {
     "name": "stdout",
     "output_type": "stream",
     "text": [
      "masukkan bilangan : 6\n",
      "720 6 5 4 3 2 1  \n",
      "120 5 4 3 2 1  \n",
      "24 4 3 2 1  \n",
      "6 3 2 1  \n",
      "2 2 1  \n",
      "1 1  \n"
     ]
    }
   ],
   "source": [
    "#latihan 6.2\n",
    "def faktorial(a):\n",
    "    if a == 0:\n",
    "        return 1\n",
    "    else:\n",
    "        return a * faktorial(a-1)\n",
    "    \n",
    "def deretbil(a):\n",
    "    for i in range(a,0,-1):\n",
    "        print(faktorial(i), end=\" \")\n",
    "        \n",
    "        for j in range(i, 0, -1):\n",
    "            print(j, end=\" \")\n",
    "            \n",
    "        print(\" \")\n",
    "\n",
    "a = int(input(\"masukkan bilangan : \"))\n",
    "deretbil(a)\n",
    "    "
   ]
  },
  {
   "cell_type": "code",
   "execution_count": 23,
   "id": "6f00335e",
   "metadata": {},
   "outputs": [
    {
     "name": "stdout",
     "output_type": "stream",
     "text": [
      "Masukkan tinggi : 5\n",
      "Masukkan lebar : 4\n",
      "1 2 3 4 \n",
      "5 6 7 8 \n",
      "9 10 11 12 \n",
      "13 14 15 16 \n",
      "17 18 19 20 \n"
     ]
    }
   ],
   "source": [
    "#latihan 6.3\n",
    "tinggi = int(input(\"Masukkan tinggi : \"))\n",
    "lebar = int(input(\"Masukkan lebar : \"))\n",
    "bil1 = 1\n",
    "for i in range(1,tinggi + 1):\n",
    "    for j in range(bil1,lebar+bil1):\n",
    "        print(j,\"\",end=\"\")\n",
    "        bil1 = j+1\n",
    "    print()"
   ]
  },
  {
   "cell_type": "code",
   "execution_count": null,
   "id": "cb7c778a",
   "metadata": {},
   "outputs": [],
   "source": []
  }
 ],
 "metadata": {
  "kernelspec": {
   "display_name": "Python 3 (ipykernel)",
   "language": "python",
   "name": "python3"
  },
  "language_info": {
   "codemirror_mode": {
    "name": "ipython",
    "version": 3
   },
   "file_extension": ".py",
   "mimetype": "text/x-python",
   "name": "python",
   "nbconvert_exporter": "python",
   "pygments_lexer": "ipython3",
   "version": "3.11.5"
  }
 },
 "nbformat": 4,
 "nbformat_minor": 5
}
